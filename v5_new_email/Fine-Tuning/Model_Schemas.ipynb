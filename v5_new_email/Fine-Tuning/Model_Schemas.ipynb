{
 "cells": [
  {
   "cell_type": "code",
   "execution_count": null,
   "id": "d014e0b9-d181-45e1-97cc-6e135e16a2f6",
   "metadata": {},
   "outputs": [],
   "source": [
    "# !pip install --quiet arthurai==3.19.1"
   ]
  },
  {
   "cell_type": "code",
   "execution_count": null,
   "id": "25ff71eb-da1c-45cf-ba2f-cd9d35082052",
   "metadata": {},
   "outputs": [],
   "source": [
    "from arthurai import ArthurAI, ArthurModel\n",
    "from arthurai.common.constants import InputType, OutputType, Stage, ValueType, Enrichment\n",
    "import numpy as np\n",
    "import pandas as pd\n",
    "pd.set_option('display.max_rows', None,'display.max_columns', None)\n",
    "from tqdm.auto import tqdm\n",
    "tqdm.pandas(position=0,leave=True)\n",
    "import os"
   ]
  },
  {
   "cell_type": "code",
   "execution_count": null,
   "id": "d8e1c233-55ba-42e7-ae3b-6e8438b1e822",
   "metadata": {},
   "outputs": [],
   "source": [
    "data_path=os.path.join(\"/opt/omniai/work/instance1/jupyter/\", \"v5_new_email\",\"datasets\")\n",
    "df=pd.read_pickle(os.path.join(data_path,\"train_val_test_pickle\"))\n",
    "\n",
    "df['time'] = pd.to_datetime(df['time'])\n",
    "df.sort_values(by='time', inplace = True) \n",
    "set_categories=lambda row: \"train\" if (row[\"year\"] in [2022,2023] and row[\"month\"] in [9,10,11,12,1,2,3,4]) else \"test\"\n",
    "df[\"data_type\"]=df.progress_apply(set_categories,axis=1)\n",
    "# df['target']=df.loc[:,'is_complaint'].progress_apply(lambda x: 1 if (x['is_complaint']==\"Y\") or (x['is_feedback']==\"Y\") else 0, axis=1)\n",
    "df['target']=np.where((df['is_complaint']==\"Y\") | (df['is_feedback']==\"Y\"),1,0)\n",
    "\n",
    "df_train=df[df.data_type==\"train\"]\n",
    "df_train=df_train.reset_index(drop=True)\n",
    "\n",
    "df_test=df[df.data_type==\"test\"]\n",
    "df_test=df_test.reset_index(drop=True)\n",
    "## overwrite the target with the ground true complaint label\n",
    "df_test['target']=df_test['is_complaint'].progress_apply(lambda x: 1 if x==\"Y\" else 0)\n",
    "\n",
    "model_dir=os.path.join(\"/opt/omniai/work/instance1/jupyter/v5_new_email/Fine-Tuning/results/05_23/\",  \"longformer_base_4096_customized\")\n",
    "output_df=pd.read_csv(os.path.join(model_dir , \"predictions_95.csv\"))\n",
    "pred_complaint=output_df.loc[:,[\"snapshot_id\",\"thread_id\",\"Predicted_prob\"]]\n",
    "pred_complaint.rename(columns={\"Predicted_prob\":\"pred_complaint\"},inplace=True)"
   ]
  },
  {
   "cell_type": "code",
   "execution_count": null,
   "id": "7f0198b7-6946-4832-842d-e272efd26dc9",
   "metadata": {},
   "outputs": [],
   "source": [
    "best_threshold=output_df[\"best_threshold\"].unique()[0]\n",
    "best_threshold"
   ]
  },
  {
   "cell_type": "code",
   "execution_count": null,
   "id": "bde6a5ec-5c50-4607-bd65-3f78e910fdc7",
   "metadata": {},
   "outputs": [],
   "source": [
    "reference_data=df_test.loc[:,[\"snapshot_id\",\"thread_id\",\"time\",\"preprocessed_email\",\"target\"]]\n",
    "reference_data=pd.merge(left=reference_data, right=pred_complaint, on=[\"snapshot_id\",\"thread_id\"],how=\"inner\")"
   ]
  },
  {
   "cell_type": "code",
   "execution_count": null,
   "id": "28631a1e-74b7-44a1-a6d0-547ba4376cb6",
   "metadata": {},
   "outputs": [],
   "source": [
    "reference_data.head()"
   ]
  },
  {
   "cell_type": "code",
   "execution_count": null,
   "id": "24bfa5ec-e3ca-4ddc-a651-3502c2a4c68f",
   "metadata": {},
   "outputs": [],
   "source": [
    "reference_data[\"time\"]=pd.to_datetime(reference_data[\"time\"])\n",
    "reference_data[\"time\"].dtype"
   ]
  },
  {
   "cell_type": "code",
   "execution_count": null,
   "id": "a64df287-01aa-498e-8380-70489e0b764d",
   "metadata": {},
   "outputs": [],
   "source": [
    "arthurai = ArthurAI(access_key=\"abc123\", url='https://abc.net/', organization_id='abc')\n",
    "arthur_model = arthurai.model(  partner_model_id=f\"complaint-model-schema\",\n",
    "                                display_name=\"CB-CX Complaint Language Model v1\",\n",
    "                                input_type=InputType.NLP,\n",
    "                                output_type=OutputType.Multiclass,\n",
    "                                is_batch=False,\n",
    "                                classifier_threshold=best_threshold)"
   ]
  },
  {
   "cell_type": "code",
   "execution_count": null,
   "id": "163e5dfe-ad77-4e5f-9c9f-5368b6af1aef",
   "metadata": {},
   "outputs": [],
   "source": [
    "pred_to_ground_truth_map = {'pred_complaint' : 1}"
   ]
  },
  {
   "cell_type": "code",
   "execution_count": null,
   "id": "067fad33-1518-48eb-b0fe-8177c8d55835",
   "metadata": {},
   "outputs": [],
   "source": [
    "arthur_model.build(data=reference_data,\n",
    "                   ground_truth_column= \"target\",\n",
    "                   pred_to_ground_truth_map = pred_to_ground_truth_map ,\n",
    "                   non_input_columns=[\"snapshot_id\",\"thread_id\",\"time\"],\n",
    "                   set_reference_data=False)\n",
    "\n",
    "# arthur_model.get_attribute(name=\"preprocessed_email\").value_type = ValueType.String\n",
    "arthur_model.get_attribute(name=\"snapshot_id\").value_type = ValueType.String\n",
    "arthur_model.get_attribute(name=\"thread_id\").value_type = ValueType.String\n",
    "\n",
    "arthur_model.get_attribute(name=\"preprocessed_email\").set(categorical=True)\n",
    "arthur_model.get_attribute(name=\"preprocessed_email\").set(is_unique=True)\n",
    "\n",
    "arthur_model.get_attribute(name=\"snapshot_id\").set(categorical=True)\n",
    "arthur_model.get_attribute(name=\"thread_id\").set(categorical=True)\n",
    "arthur_model.get_attribute(name=\"time\").value_type = ValueType.Timestamp\n",
    "arthur_model.get_attribute(name=\"time\").set(categorical=False, categories=[])"
   ]
  },
  {
   "cell_type": "code",
   "execution_count": null,
   "id": "6084627c-0f8b-421f-b8bd-5de2c91d715e",
   "metadata": {},
   "outputs": [],
   "source": [
    "arthur_model.review()"
   ]
  },
  {
   "cell_type": "code",
   "execution_count": null,
   "id": "ceef7820-d528-4f7c-aa14-3dcb366a2d75",
   "metadata": {},
   "outputs": [],
   "source": [
    "# arthur_model.to_csv(\"schemas.csv\")"
   ]
  },
  {
   "cell_type": "code",
   "execution_count": null,
   "id": "4a621f20-df5f-40ef-bf7a-2b0cc76e1ee8",
   "metadata": {},
   "outputs": [],
   "source": [
    "arthur_model.review().to_csv(\"language_model_schemas.csv\")"
   ]
  },
  {
   "cell_type": "code",
   "execution_count": null,
   "id": "1581c20f-cbb8-4f9a-8c8e-6f4dc5748fef",
   "metadata": {},
   "outputs": [],
   "source": [
    "json_export=arthur_model.to_json()\n",
    "print(json_export)"
   ]
  },
  {
   "cell_type": "code",
   "execution_count": null,
   "id": "7c9d67db-262c-4a11-ab52-6084ad88973a",
   "metadata": {},
   "outputs": [],
   "source": [
    "import json\n",
    "with open(\"language_model_schemas.json\",'w') as file:\n",
    "    json.dump(json_export,file)"
   ]
  },
  {
   "cell_type": "code",
   "execution_count": null,
   "id": "4b65b6dc-a38f-4ef8-a721-3e87cee9e076",
   "metadata": {},
   "outputs": [],
   "source": [
    "cluster_url = \"https://arthur-eval.mm.mlesm.prod.aws.jpmchase.net/\" \n",
    "org_id = \"407f1be3-3cf6-4fd2-8cad-13c5f1390ec3\"\n",
    "token_id=\"eyJ0eXAiOiJKV1QiLCJhbGciOiJSUzI1NiIsIng1dCI6IkpKRmRuSURYTngtTERNUWIzR3V4eVpSaC1xZyIsImtpZCI6IkpKRmRuSURYTngtTERNUWIzR3V4eVpSaC1xZyJ9.eyJhdWQiOiJKUE1DOlVSSTpSUy0xMTA0OTYtOTgzNDAtUFJPRE9tbmlBSU1vZGVsTW9uaXRvcmluZy1QUk9EIiwiaXNzIjoiaHR0cDovL2lkYS5qcG1vcmdhbmNoYXNlLmNvbS9hZGZzL3NlcnZpY2VzL3RydXN0IiwiaWF0IjoxNjg5OTUxMTUxLCJuYmYiOjE2ODk5NTExNTEsImV4cCI6MTY4OTk1NDc1MSwiSlBNQ0lkZW50aWZpZXIiOiJSNzM0NDYzIiwiQnVpbGRpbmdDaXR5IjoiNTk2MzUiLCJDb21wYW55IjoiSlBNT1JHQU4gQ0hBU0UgQkFOSyAoSUwpIiwiRGlzcGxheU5hbWUiOiJKaWFuZywgQ2h1YW5saWFuZyIsIkVtYWlsIjoiY2h1YW5saWFuZy5qaWFuZ0BjaGFzZS5jb20iLCJFbXBsb3llZUNvcnBvcmF0ZUlEIjoiUjczNDQ2MyIsIkZpcnN0TmFtZSI6IkNodWFubGlhbmciLCJMYXN0TmFtZSI6IkppYW5nIiwiTE9CIjoiQ09NTUVSQ0lBTCBCQU5LIiwiU0lEIjoiUjczNDQ2MyIsIlJvbGUiOlsiQVJUNGFkMjJhNzFiMDBlNTdiMjNiZjA3MzdkNjk0OWI4ZTctOTgzNDAtMTEwNDk2LVBST0QiLCJBUlRkMWRhNzlkZmUyMzM4OWFlZTM1YzVhZDg0MjhhMjIzNC05ODM0MC0xMTA0OTYtUFJPRCIsIkFSVGUzNDA5NjAzMjZjNGVhYzQ2YWE0ZjM5M2ZmNTA3YzBiLTk4MzQwLTExMDQ5Ni1QUk9EIiwiQVJUNWU5NDI5YjNjMTViOTZhYjIxMDU2NTFjNjliMTNmN2MtOTgzNDAtMTEwNDk2LVBST0QiXSwiQ2xpZW50SVBBZGRyZXNzIjoiMTAuMjAxLjE3NS4yMjMiLCJhcHB0eXBlIjoiUHVibGljIiwiYXBwaWQiOiJQQy0xMTA0OTYtU0lELTE1Njc3Ni1QUk9EIiwiYXV0aG1ldGhvZCI6Imh0dHA6Ly9zY2hlbWFzLm1pY3Jvc29mdC5jb20vd3MvMjAwOC8wNi9pZGVudGl0eS9hdXRoZW50aWNhdGlvbm1ldGhvZC93aW5kb3dzIiwiYXV0aF90aW1lIjoiMjAyMy0wNy0yMVQwOToxMToyOS44NTRaIiwidmVyIjoiMS4wIiwic2NwIjoib3BlbmlkIn0.mZp617Gmz1145ZUc0fGEBPndjz-mI-iNTW37JJxaGxe2jhnehvmkXDJXTLcxqtRqfdZh6YdA6GekuL1JuUHe1uDb5fQg1gkQWOuPS6TKjrfzCyxTIVpm-U9WcLrlgrHBYZWjOOJxd-uQOMR2TzPDFFi27gser8GbbjngQs2q7DZ5Vc9HaxXk-t_RB7JNo75H4_bkfGN78pJuUQLpNERaBEOwSaUp8hyert65oke1k1_lbv5bIWSD2Dmhh6wmpD1m9ukH-ug9Ya4uQNbcok2xS2BMvJIR02wfpXmvstyHrYio7NjKWulWjIXrxfslsm9R9J805u7h1udvqTqsqPhhDA\"\n",
    "connection = ArthurAI(access_key=token_id, url=cluster_url, organization_id=org_id)\n",
    "\n",
    "f = open(\"language_model_schemas.json\")\n",
    "json_schema = json.load(f)\n",
    "arthur_model = ArthurModel.from_json(json_schema)"
   ]
  },
  {
   "cell_type": "code",
   "execution_count": null,
   "id": "c6935e1f-5769-4c9b-819a-78171688cb73",
   "metadata": {},
   "outputs": [],
   "source": [
    "arthur_model.partner_model_id = 'longformer-base-v1'\n",
    "arthur_model._client = connection.client"
   ]
  },
  {
   "cell_type": "code",
   "execution_count": null,
   "id": "70b38081-cdfe-4d88-be0f-ec46f6644f97",
   "metadata": {},
   "outputs": [],
   "source": [
    "arthur_model.set_reference_data(data = reference_data)\n",
    "# %pdb\n",
    "model_id = arthur_model.save()"
   ]
  },
  {
   "cell_type": "code",
   "execution_count": null,
   "id": "e9c8a636-6eb7-4ba3-a9d9-10926ea404a3",
   "metadata": {},
   "outputs": [],
   "source": []
  }
 ],
 "metadata": {
  "kernelspec": {
   "display_name": "Python 3 (ipykernel)",
   "language": "python",
   "name": "python3"
  },
  "language_info": {
   "codemirror_mode": {
    "name": "ipython",
    "version": 3
   },
   "file_extension": ".py",
   "mimetype": "text/x-python",
   "name": "python",
   "nbconvert_exporter": "python",
   "pygments_lexer": "ipython3",
   "version": "3.8.11"
  }
 },
 "nbformat": 4,
 "nbformat_minor": 5
}
