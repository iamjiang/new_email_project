{
 "cells": [
  {
   "cell_type": "code",
   "execution_count": null,
   "id": "159bfab3-9826-46ad-80f2-3d75affe5967",
   "metadata": {},
   "outputs": [],
   "source": [
    "import os\n",
    "import pandas as pd\n",
    "pd.options.mode.chained_assignment=None\n",
    "from tqdm.auto import tqdm\n",
    "tqdm.pandas(position=0,leave=True)\n",
    "from sklearn import metrics\n",
    "from sklearn.metrics import classification_report, confusion_matrix\n",
    "import matplotlib.pyplot as plt\n",
    "import numpy as np\n",
    "from sklearn import metrics"
   ]
  },
  {
   "cell_type": "code",
   "execution_count": null,
   "id": "7d418718-99aa-41af-9b13-b0ebdc5bdb8e",
   "metadata": {},
   "outputs": [],
   "source": [
    "table_name=\"latency_throughput.txt\"\n",
    "Model_Type=[]\n",
    "latency=[]\n",
    "throughput=[]\n",
    "duration=[]\n",
    "device=[]\n",
    "\n",
    "with open(os.path.join(os.getcwd(),\"tfidf\",table_name),'r') as f:\n",
    "    for line in f:\n",
    "        Model_Type.append(str(line.split(\",\")[0]))\n",
    "        latency.append(float(line.split(\",\")[1]))\n",
    "        throughput.append(float(line.split(\",\")[2]))\n",
    "        duration.append(float(line.split(\",\")[3]))\n",
    "        device.append(str(line.split(\",\")[4]))\n",
    "table_v1=pd.DataFrame({\"model_name\":Model_Type,\"time(second) per email\":latency,\\\n",
    "                    \"# of email per second\":throughput,\"duration\":duration,\"device\":device})\n",
    "table_v1=table_v1.reset_index(drop=True)"
   ]
  },
  {
   "cell_type": "code",
   "execution_count": null,
   "id": "5fa366b4-12ae-4508-bbfe-90b0435248e7",
   "metadata": {},
   "outputs": [],
   "source": [
    "table_v1"
   ]
  },
  {
   "cell_type": "code",
   "execution_count": null,
   "id": "6dbe14af-466e-4752-bd07-b538eeeb75db",
   "metadata": {},
   "outputs": [],
   "source": [
    "table_name=\"latency_throughput.txt\"\n",
    "Model_Type=[]\n",
    "latency=[]\n",
    "throughput=[]\n",
    "duration=[]\n",
    "device=[]\n",
    "\n",
    "with open(table_name,'r') as f:\n",
    "    for line in f:\n",
    "        Model_Type.append(str(line.split(\",\")[0]))\n",
    "        latency.append(float(line.split(\",\")[1]))\n",
    "        throughput.append(float(line.split(\",\")[2]))\n",
    "        duration.append(float(line.split(\",\")[3]))\n",
    "        device.append(str(line.split(\",\")[4]))\n",
    "table_v2=pd.DataFrame({\"model_name\":Model_Type,\"time(second) per email\":latency,\\\n",
    "                    \"# of email per second\":throughput,\"duration\":duration,\"device\":device})\n",
    "table_v2=table_v2.reset_index(drop=True)\n"
   ]
  },
  {
   "cell_type": "code",
   "execution_count": null,
   "id": "968861c6-af95-4088-93e3-52642367a4f8",
   "metadata": {},
   "outputs": [],
   "source": [
    "table=pd.concat([table_v1, table_v2])"
   ]
  },
  {
   "cell_type": "code",
   "execution_count": null,
   "id": "1f090d97-063c-4fa5-817f-a446aa2f97a6",
   "metadata": {},
   "outputs": [],
   "source": [
    "table.style.format({\"time(second) per email\":\"{:.4f}\",\"# of email per second\":\"{:.2f}\",\"duration\":\"{:.2f}\",}) "
   ]
  },
  {
   "cell_type": "code",
   "execution_count": null,
   "id": "e1b01f5b-0447-4f40-b7c3-7bc8292606d4",
   "metadata": {},
   "outputs": [],
   "source": [
    "table.to_csv(\"latency_df.csv\")"
   ]
  },
  {
   "cell_type": "code",
   "execution_count": null,
   "id": "95ae1da4-d6be-464a-94cc-08a1a026a10e",
   "metadata": {},
   "outputs": [],
   "source": []
  }
 ],
 "metadata": {
  "kernelspec": {
   "display_name": "pt2",
   "language": "python",
   "name": "pt2"
  },
  "language_info": {
   "codemirror_mode": {
    "name": "ipython",
    "version": 3
   },
   "file_extension": ".py",
   "mimetype": "text/x-python",
   "name": "python",
   "nbconvert_exporter": "python",
   "pygments_lexer": "ipython3",
   "version": "3.8.11"
  }
 },
 "nbformat": 4,
 "nbformat_minor": 5
}
